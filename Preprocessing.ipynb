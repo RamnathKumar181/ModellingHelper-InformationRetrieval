{
  "nbformat": 4,
  "nbformat_minor": 0,
  "metadata": {
    "colab": {
      "name": "Preprocessing.ipynb",
      "version": "0.3.2",
      "provenance": []
    },
    "kernelspec": {
      "name": "python3",
      "display_name": "Python 3"
    }
  },
  "cells": [
    {
      "cell_type": "code",
      "metadata": {
        "id": "s5hb7xEwaeHk",
        "colab_type": "code",
        "colab": {
          "base_uri": "https://localhost:8080/",
          "height": 34
        },
        "outputId": "61288953-e7f9-4353-bb75-7480f53cb370"
      },
      "source": [
        "from google.colab import drive\n",
        "drive.mount('/content/gdrive')"
      ],
      "execution_count": 1,
      "outputs": [
        {
          "output_type": "stream",
          "text": [
            "Drive already mounted at /content/gdrive; to attempt to forcibly remount, call drive.mount(\"/content/gdrive\", force_remount=True).\n"
          ],
          "name": "stdout"
        }
      ]
    },
    {
      "cell_type": "code",
      "metadata": {
        "id": "nhkCmUpyaEjE",
        "colab_type": "code",
        "colab": {
          "base_uri": "https://localhost:8080/",
          "height": 119
        },
        "outputId": "115356d7-3040-4d36-85e1-6d8fe7aab2a2"
      },
      "source": [
        "import pandas as pd\n",
        "import base64\n",
        "import numpy as np\n",
        "# import imageio\n",
        "import os\n",
        "import scipy\n",
        "import gensim\n",
        "import re\n",
        "import nltk\n",
        "from nltk.stem import WordNetLemmatizer\n",
        "from nltk import word_tokenize\n",
        "import gensim.corpora as corpora\n",
        "import itertools\n",
        "import nltk\n",
        "nltk.download('stopwords')\n",
        "nltk.download('punkt')\n",
        "nltk.download('wordnet')\n",
        "from nltk.corpus import stopwords\n",
        "stops = stopwords.words('english')\n",
        "\n",
        "''' This method removes all kinds of line breaks. '''\n",
        "def removeLineBreaks(tweet):\n",
        "    return re.sub(\"\\n\\r|\\r\\n|\\n|\\r\",\" \", tweet)\n",
        "\n",
        "''' This method removes all the url's in the tweet'''\n",
        "def removeURLs(tweet):\n",
        "    return re.sub(\"(http|ftp|https)://([\\w_-]+(?:(?:\\.[\\w_-]+)+))([\\w.,@?^=%&:/~+#-]*[\\w@?^=%&/~+#-])?\", \" \", tweet)\n",
        "\n",
        "''' This method removes all emojis from the tweet'''\n",
        "def removeEmojis(tweet):\n",
        "    tweet = tweet.encode('ascii', 'ignore').decode('ascii')\n",
        "    return tweet\n",
        "\n",
        "''' This method checks if the tweet is a retweet or not.\n",
        "    a retweet contains RT @***** '''\n",
        "def isRetweet(tweet):\n",
        "    retweet = re.compile(\"RT @[A-Za-z0-9]*:\")\n",
        "    retweet.match(tweet)\n",
        "\n",
        "    return bool(re.search(\"RT @[A-Za-z0-9]*:\", tweet))\n",
        "\n",
        "''' This method removes the retweet tag from tweets'''\n",
        "def removeRTtag(tweet):\n",
        "    return re.sub(\"RT @[A-Za-z0-9]*: \", \" \", tweet)\n",
        "\n",
        "''' This method removes all the mentions.\n",
        "    mentions are usually with @'''\n",
        "def removeMentions(tweet):\n",
        "    return re.sub(\"@[A-Za-z0-9]*\", \" \", tweet)\n",
        "\n",
        "''' This method removes multiple spaces.'''\n",
        "def removeMultipleSpaces(tweet):\n",
        "    return re.sub(\" +\", \" \", tweet)\n",
        "\n",
        "''' This method turns the tweets into lowercase. '''\n",
        "def lowercasetweet(tweet):\n",
        "    return tweet.lower()\n",
        "\n",
        "''' This method removes all the punctuations from the tweet.'''\n",
        "def removePunctuations(tweet):\n",
        "    return re.sub(\"[.,!'\\\";:?…]+\", \" \", tweet)\n",
        "\n",
        "''' This method removes special characters from tweets.'''\n",
        "def removeSpecialCharacters(tweet):\n",
        "    return re.sub(\"[@#$%^*(){}\\\\\\<>\\[\\]~/|=\\+\\-&_¿ߒ]+\",\" \", tweet)\n",
        "\n",
        "''' This method removes alpha-numeric charcters from the tweet.'''\n",
        "def removeAlphaNumeric(tweet):\n",
        "    # return re.sub(\"[A-Za-z]+[0-9]+\", \"\", tweet)\n",
        "    return re.sub(\"[0-9]+\", \"\", tweet)\n",
        "\n",
        "''' Lemmatization using nltk. '''\n",
        "def lemmatizeTweet(tweet):\n",
        "    return [WordNetLemmatizer().lemmatize(token) for token in word_tokenize(tweet)]\n",
        "\n",
        "def cleanData(text, lowercase = False, remove_stops = False, stemming = False, lemmatization = False):\n",
        "    txt = str(text)\n",
        "\n",
        "    # Replace apostrophes with standard lexicons\n",
        "    txt = txt.replace(\"isn't\", \"is not\")\n",
        "    txt = txt.replace(\"aren't\", \"are not\")\n",
        "    txt = txt.replace(\"ain't\", \"am not\")\n",
        "    txt = txt.replace(\"won't\", \"will not\")\n",
        "    txt = txt.replace(\"didn't\", \"did not\")\n",
        "    txt = txt.replace(\"shan't\", \"shall not\")\n",
        "    txt = txt.replace(\"haven't\", \"have not\")\n",
        "    txt = txt.replace(\"hadn't\", \"had not\")\n",
        "    txt = txt.replace(\"hasn't\", \"has not\")\n",
        "    txt = txt.replace(\"don't\", \"do not\")\n",
        "    txt = txt.replace(\"wasn't\", \"was not\")\n",
        "    txt = txt.replace(\"weren't\", \"were not\")\n",
        "    txt = txt.replace(\"doesn't\", \"does not\")\n",
        "    txt = txt.replace(\"'s\", \" is\")\n",
        "    txt = txt.replace(\"'re\", \" are\")\n",
        "    txt = txt.replace(\"'m\", \" am\")\n",
        "    txt = txt.replace(\"'d\", \" would\")\n",
        "    txt = txt.replace(\"'ll\", \" will\")\n",
        "\n",
        "    # Emoji replacement\n",
        "    txt = re.sub(r':\\)',r' happy ',txt)\n",
        "    txt = re.sub(r':D',r' happy ',txt)\n",
        "    txt = re.sub(r':P',r' happy ',txt)\n",
        "    txt = re.sub(r':\\(',r' sad ',txt)\n",
        "\n",
        "    # Replace words like sooooooo with so\n",
        "    txt = ''.join(''.join(s)[:2] for _, s in itertools.groupby(txt))\n",
        "    return txt\n"
      ],
      "execution_count": 25,
      "outputs": [
        {
          "output_type": "stream",
          "text": [
            "[nltk_data] Downloading package stopwords to /root/nltk_data...\n",
            "[nltk_data]   Package stopwords is already up-to-date!\n",
            "[nltk_data] Downloading package punkt to /root/nltk_data...\n",
            "[nltk_data]   Package punkt is already up-to-date!\n",
            "[nltk_data] Downloading package wordnet to /root/nltk_data...\n",
            "[nltk_data]   Package wordnet is already up-to-date!\n"
          ],
          "name": "stdout"
        }
      ]
    },
    {
      "cell_type": "code",
      "metadata": {
        "id": "MNijHvwLaKt4",
        "colab_type": "code",
        "colab": {}
      },
      "source": [
        "final = np.load('/content/gdrive/My Drive/IR Assignment/IR_assignment.npy',allow_pickle=True)\n",
        "uniq_words=[]\n",
        "count={}\n",
        "import os\n",
        "import pickle\n",
        "index={}\n",
        "for line in final:\n",
        "    ll = lemmatizeTweet(removeMultipleSpaces(removeURLs(removeMentions(removeEmojis(removeSpecialCharacters(removePunctuations(removeAlphaNumeric(cleanData(removeLineBreaks(line[1].lower()))))))))))\n",
        "    for word in ll:\n",
        "        if word not in stops:\n",
        "          if word not in uniq_words:\n",
        "            uniq_words.append(word)\n",
        "            count[word]=1\n",
        "            index[word]=[]\n",
        "          else:\n",
        "            count[word]+=1\n",
        "          if word not in index[word]:\n",
        "             index[word].append(int(line[0]))\n"
      ],
      "execution_count": 0,
      "outputs": []
    },
    {
      "cell_type": "code",
      "metadata": {
        "id": "okHwHrgRaNgP",
        "colab_type": "code",
        "colab": {}
      },
      "source": [
        "pickle_out = open(\"/content/gdrive/My Drive/IR Assignment/inverted_index.pickle\",\"wb\")\n",
        "pickle.dump(index, pickle_out)\n",
        "pickle_out.close()\n",
        "pickle_out = open(\"/content/gdrive/My Drive/IR Assignment/count_word.pickle\",\"wb\")\n",
        "pickle.dump(index, pickle_out)\n",
        "pickle_out.close()\n",
        "np.save(\"/content/gdrive/My Drive/IR Assignment/uniq_words.npy\",uniq_words)"
      ],
      "execution_count": 0,
      "outputs": []
    }
  ]
}